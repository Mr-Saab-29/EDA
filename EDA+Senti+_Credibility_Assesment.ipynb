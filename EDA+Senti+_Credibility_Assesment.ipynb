{
  "nbformat": 4,
  "nbformat_minor": 0,
  "metadata": {
    "colab": {
      "provenance": []
    },
    "kernelspec": {
      "name": "python3",
      "display_name": "Python 3"
    },
    "language_info": {
      "name": "python"
    }
  },
  "cells": [
    {
      "cell_type": "code",
      "source": [
        "import pandas as pd\n",
        "import numpy as np\n",
        "import matplotlib.pyplot as plt\n",
        "import seaborn as sns\n",
        "import scipy.stats as stats\n",
        "import plotly.express as px\n",
        "from sklearn.preprocessing import StandardScaler\n",
        "import statsmodels.api as sm\n",
        "from ydata_profiling import ProfileReport\n",
        "import json"
      ],
      "metadata": {
        "id": "5lIfRhc8rnqh"
      },
      "execution_count": 23,
      "outputs": []
    },
    {
      "cell_type": "code",
      "source": [
        "from google.colab import drive\n",
        "drive.mount('/content/drive')"
      ],
      "metadata": {
        "id": "tGfxVbxqsnLz",
        "colab": {
          "base_uri": "https://localhost:8080/"
        },
        "outputId": "4f37ee3b-0ead-462d-a94e-c934f602f3be"
      },
      "execution_count": 24,
      "outputs": [
        {
          "output_type": "stream",
          "name": "stdout",
          "text": [
            "Drive already mounted at /content/drive; to attempt to forcibly remount, call drive.mount(\"/content/drive\", force_remount=True).\n"
          ]
        }
      ]
    },
    {
      "cell_type": "markdown",
      "source": [
        "Sampling the data from the dataset ( Since it is too large)"
      ],
      "metadata": {
        "id": "cWq2NVDkeblY"
      }
    },
    {
      "cell_type": "code",
      "source": [
        "import json\n",
        "import csv\n",
        "import random"
      ],
      "metadata": {
        "id": "kQmhINlPbLMy"
      },
      "execution_count": 2,
      "outputs": []
    },
    {
      "cell_type": "code",
      "source": [
        "def sample_and_convert_to_csv(json_file, csv_file, sample_size):\n",
        "    # Open the JSON file and load the data\n",
        "    sampled_data = []\n",
        "    with open(json_file, 'r') as f:\n",
        "        for line in f:\n",
        "            try:\n",
        "                data = json.loads(line)\n",
        "                sampled_data.append(data)\n",
        "            except json.JSONDecodeError:\n",
        "                print(\"Error: Invalid JSON format in line:\", line)\n",
        "\n",
        "    # Randomly sample the data\n",
        "    sampled_data = random.sample(sampled_data, min(sample_size, len(sampled_data)))\n",
        "\n",
        "    # Open the CSV file in write mode\n",
        "    with open(csv_file, 'w', newline='') as f:\n",
        "        # Create a CSV writer object\n",
        "        writer = csv.writer(f)\n",
        "\n",
        "        # Write the header row based on the keys of the first JSON object\n",
        "        if sampled_data:\n",
        "            writer.writerow(sampled_data[0].keys())\n",
        "\n",
        "        # Write the sampled data rows\n",
        "        for item in sampled_data:\n",
        "            writer.writerow(item.values())\n"
      ],
      "metadata": {
        "id": "2nWPzmBEcDI6"
      },
      "execution_count": 5,
      "outputs": []
    },
    {
      "cell_type": "code",
      "source": [
        "json_file = '/content/drive/MyDrive/Video_Games.jsonl'\n",
        "csv_file = 'sampled_output.csv'\n",
        "sample_size = 250  # Deciding sample size\n",
        "sample_and_convert_to_csv(json_file, csv_file, sample_size)"
      ],
      "metadata": {
        "id": "axaIy1a4cKVc"
      },
      "execution_count": 6,
      "outputs": []
    },
    {
      "cell_type": "markdown",
      "source": [
        "Working with the CSV file"
      ],
      "metadata": {
        "id": "62YCx6Fteir5"
      }
    },
    {
      "cell_type": "code",
      "source": [
        "fp = '/content/sampled_output.csv'"
      ],
      "metadata": {
        "id": "97HlQ4UkeiQd"
      },
      "execution_count": 25,
      "outputs": []
    },
    {
      "cell_type": "code",
      "source": [
        "df = pd.read_csv(fp)"
      ],
      "metadata": {
        "id": "5kLHtiTMe4h9"
      },
      "execution_count": 76,
      "outputs": []
    },
    {
      "cell_type": "code",
      "source": [
        "df.head()"
      ],
      "metadata": {
        "colab": {
          "base_uri": "https://localhost:8080/",
          "height": 293
        },
        "id": "MboPk127fAvW",
        "outputId": "6aca1436-6c20-4443-87c8-c258f176c2c5"
      },
      "execution_count": 77,
      "outputs": [
        {
          "output_type": "execute_result",
          "data": {
            "text/plain": [
              "   rating                               title  \\\n",
              "0     5.0                             awesome   \n",
              "1     5.0     Nice gaming mouse for big hands   \n",
              "2     2.0  There are better RPGs out there...   \n",
              "3     3.0                         Three Stars   \n",
              "4     5.0                     Great condition   \n",
              "\n",
              "                                                text images        asin  \\\n",
              "0  Excellent collection to have for all the dmc f...     []  B005VBVQDI   \n",
              "1  Got it because of the extensions.  I don't use...     []  B096VBF7QH   \n",
              "2  Too much fanservice and the story is not that ...     []  B00BJH11FQ   \n",
              "3  Too small for regular use. Can only fit some t...     []  B072PW59TZ   \n",
              "4    Game works great  and my six year old loves it.     []  B00844RD1I   \n",
              "\n",
              "  parent_asin                       user_id      timestamp  helpful_vote  \\\n",
              "0  B006UBEV4O  AFTNS2VWV2YWITGFH7DKOFPVOIFA  1356545880000             0   \n",
              "1  B096VBF7QH  AF25P5L44LU2SS7O2JWKZU4BFPMA  1641529725693             0   \n",
              "2  B00BJH11FQ  AFAEMZXVRZGYTPPZS6MTO3GCTFIA  1394204046000             2   \n",
              "3  B072V478NR  AGFXDKQJSWI7T7EYX7SBMLG2RRNQ  1528142272000             0   \n",
              "4  B00844RD1I  AGGFMRARTR6Y5KUKWGGCNKTLJOHA  1587163534902             0   \n",
              "\n",
              "   verified_purchase  \n",
              "0              False  \n",
              "1               True  \n",
              "2               True  \n",
              "3               True  \n",
              "4               True  "
            ],
            "text/html": [
              "\n",
              "  <div id=\"df-81a59b0a-e15f-4828-b599-7da6aedd869d\" class=\"colab-df-container\">\n",
              "    <div>\n",
              "<style scoped>\n",
              "    .dataframe tbody tr th:only-of-type {\n",
              "        vertical-align: middle;\n",
              "    }\n",
              "\n",
              "    .dataframe tbody tr th {\n",
              "        vertical-align: top;\n",
              "    }\n",
              "\n",
              "    .dataframe thead th {\n",
              "        text-align: right;\n",
              "    }\n",
              "</style>\n",
              "<table border=\"1\" class=\"dataframe\">\n",
              "  <thead>\n",
              "    <tr style=\"text-align: right;\">\n",
              "      <th></th>\n",
              "      <th>rating</th>\n",
              "      <th>title</th>\n",
              "      <th>text</th>\n",
              "      <th>images</th>\n",
              "      <th>asin</th>\n",
              "      <th>parent_asin</th>\n",
              "      <th>user_id</th>\n",
              "      <th>timestamp</th>\n",
              "      <th>helpful_vote</th>\n",
              "      <th>verified_purchase</th>\n",
              "    </tr>\n",
              "  </thead>\n",
              "  <tbody>\n",
              "    <tr>\n",
              "      <th>0</th>\n",
              "      <td>5.0</td>\n",
              "      <td>awesome</td>\n",
              "      <td>Excellent collection to have for all the dmc f...</td>\n",
              "      <td>[]</td>\n",
              "      <td>B005VBVQDI</td>\n",
              "      <td>B006UBEV4O</td>\n",
              "      <td>AFTNS2VWV2YWITGFH7DKOFPVOIFA</td>\n",
              "      <td>1356545880000</td>\n",
              "      <td>0</td>\n",
              "      <td>False</td>\n",
              "    </tr>\n",
              "    <tr>\n",
              "      <th>1</th>\n",
              "      <td>5.0</td>\n",
              "      <td>Nice gaming mouse for big hands</td>\n",
              "      <td>Got it because of the extensions.  I don't use...</td>\n",
              "      <td>[]</td>\n",
              "      <td>B096VBF7QH</td>\n",
              "      <td>B096VBF7QH</td>\n",
              "      <td>AF25P5L44LU2SS7O2JWKZU4BFPMA</td>\n",
              "      <td>1641529725693</td>\n",
              "      <td>0</td>\n",
              "      <td>True</td>\n",
              "    </tr>\n",
              "    <tr>\n",
              "      <th>2</th>\n",
              "      <td>2.0</td>\n",
              "      <td>There are better RPGs out there...</td>\n",
              "      <td>Too much fanservice and the story is not that ...</td>\n",
              "      <td>[]</td>\n",
              "      <td>B00BJH11FQ</td>\n",
              "      <td>B00BJH11FQ</td>\n",
              "      <td>AFAEMZXVRZGYTPPZS6MTO3GCTFIA</td>\n",
              "      <td>1394204046000</td>\n",
              "      <td>2</td>\n",
              "      <td>True</td>\n",
              "    </tr>\n",
              "    <tr>\n",
              "      <th>3</th>\n",
              "      <td>3.0</td>\n",
              "      <td>Three Stars</td>\n",
              "      <td>Too small for regular use. Can only fit some t...</td>\n",
              "      <td>[]</td>\n",
              "      <td>B072PW59TZ</td>\n",
              "      <td>B072V478NR</td>\n",
              "      <td>AGFXDKQJSWI7T7EYX7SBMLG2RRNQ</td>\n",
              "      <td>1528142272000</td>\n",
              "      <td>0</td>\n",
              "      <td>True</td>\n",
              "    </tr>\n",
              "    <tr>\n",
              "      <th>4</th>\n",
              "      <td>5.0</td>\n",
              "      <td>Great condition</td>\n",
              "      <td>Game works great  and my six year old loves it.</td>\n",
              "      <td>[]</td>\n",
              "      <td>B00844RD1I</td>\n",
              "      <td>B00844RD1I</td>\n",
              "      <td>AGGFMRARTR6Y5KUKWGGCNKTLJOHA</td>\n",
              "      <td>1587163534902</td>\n",
              "      <td>0</td>\n",
              "      <td>True</td>\n",
              "    </tr>\n",
              "  </tbody>\n",
              "</table>\n",
              "</div>\n",
              "    <div class=\"colab-df-buttons\">\n",
              "\n",
              "  <div class=\"colab-df-container\">\n",
              "    <button class=\"colab-df-convert\" onclick=\"convertToInteractive('df-81a59b0a-e15f-4828-b599-7da6aedd869d')\"\n",
              "            title=\"Convert this dataframe to an interactive table.\"\n",
              "            style=\"display:none;\">\n",
              "\n",
              "  <svg xmlns=\"http://www.w3.org/2000/svg\" height=\"24px\" viewBox=\"0 -960 960 960\">\n",
              "    <path d=\"M120-120v-720h720v720H120Zm60-500h600v-160H180v160Zm220 220h160v-160H400v160Zm0 220h160v-160H400v160ZM180-400h160v-160H180v160Zm440 0h160v-160H620v160ZM180-180h160v-160H180v160Zm440 0h160v-160H620v160Z\"/>\n",
              "  </svg>\n",
              "    </button>\n",
              "\n",
              "  <style>\n",
              "    .colab-df-container {\n",
              "      display:flex;\n",
              "      gap: 12px;\n",
              "    }\n",
              "\n",
              "    .colab-df-convert {\n",
              "      background-color: #E8F0FE;\n",
              "      border: none;\n",
              "      border-radius: 50%;\n",
              "      cursor: pointer;\n",
              "      display: none;\n",
              "      fill: #1967D2;\n",
              "      height: 32px;\n",
              "      padding: 0 0 0 0;\n",
              "      width: 32px;\n",
              "    }\n",
              "\n",
              "    .colab-df-convert:hover {\n",
              "      background-color: #E2EBFA;\n",
              "      box-shadow: 0px 1px 2px rgba(60, 64, 67, 0.3), 0px 1px 3px 1px rgba(60, 64, 67, 0.15);\n",
              "      fill: #174EA6;\n",
              "    }\n",
              "\n",
              "    .colab-df-buttons div {\n",
              "      margin-bottom: 4px;\n",
              "    }\n",
              "\n",
              "    [theme=dark] .colab-df-convert {\n",
              "      background-color: #3B4455;\n",
              "      fill: #D2E3FC;\n",
              "    }\n",
              "\n",
              "    [theme=dark] .colab-df-convert:hover {\n",
              "      background-color: #434B5C;\n",
              "      box-shadow: 0px 1px 3px 1px rgba(0, 0, 0, 0.15);\n",
              "      filter: drop-shadow(0px 1px 2px rgba(0, 0, 0, 0.3));\n",
              "      fill: #FFFFFF;\n",
              "    }\n",
              "  </style>\n",
              "\n",
              "    <script>\n",
              "      const buttonEl =\n",
              "        document.querySelector('#df-81a59b0a-e15f-4828-b599-7da6aedd869d button.colab-df-convert');\n",
              "      buttonEl.style.display =\n",
              "        google.colab.kernel.accessAllowed ? 'block' : 'none';\n",
              "\n",
              "      async function convertToInteractive(key) {\n",
              "        const element = document.querySelector('#df-81a59b0a-e15f-4828-b599-7da6aedd869d');\n",
              "        const dataTable =\n",
              "          await google.colab.kernel.invokeFunction('convertToInteractive',\n",
              "                                                    [key], {});\n",
              "        if (!dataTable) return;\n",
              "\n",
              "        const docLinkHtml = 'Like what you see? Visit the ' +\n",
              "          '<a target=\"_blank\" href=https://colab.research.google.com/notebooks/data_table.ipynb>data table notebook</a>'\n",
              "          + ' to learn more about interactive tables.';\n",
              "        element.innerHTML = '';\n",
              "        dataTable['output_type'] = 'display_data';\n",
              "        await google.colab.output.renderOutput(dataTable, element);\n",
              "        const docLink = document.createElement('div');\n",
              "        docLink.innerHTML = docLinkHtml;\n",
              "        element.appendChild(docLink);\n",
              "      }\n",
              "    </script>\n",
              "  </div>\n",
              "\n",
              "\n",
              "<div id=\"df-e19d3b6a-e032-4bd7-a09c-0b3c4db7a5e7\">\n",
              "  <button class=\"colab-df-quickchart\" onclick=\"quickchart('df-e19d3b6a-e032-4bd7-a09c-0b3c4db7a5e7')\"\n",
              "            title=\"Suggest charts\"\n",
              "            style=\"display:none;\">\n",
              "\n",
              "<svg xmlns=\"http://www.w3.org/2000/svg\" height=\"24px\"viewBox=\"0 0 24 24\"\n",
              "     width=\"24px\">\n",
              "    <g>\n",
              "        <path d=\"M19 3H5c-1.1 0-2 .9-2 2v14c0 1.1.9 2 2 2h14c1.1 0 2-.9 2-2V5c0-1.1-.9-2-2-2zM9 17H7v-7h2v7zm4 0h-2V7h2v10zm4 0h-2v-4h2v4z\"/>\n",
              "    </g>\n",
              "</svg>\n",
              "  </button>\n",
              "\n",
              "<style>\n",
              "  .colab-df-quickchart {\n",
              "      --bg-color: #E8F0FE;\n",
              "      --fill-color: #1967D2;\n",
              "      --hover-bg-color: #E2EBFA;\n",
              "      --hover-fill-color: #174EA6;\n",
              "      --disabled-fill-color: #AAA;\n",
              "      --disabled-bg-color: #DDD;\n",
              "  }\n",
              "\n",
              "  [theme=dark] .colab-df-quickchart {\n",
              "      --bg-color: #3B4455;\n",
              "      --fill-color: #D2E3FC;\n",
              "      --hover-bg-color: #434B5C;\n",
              "      --hover-fill-color: #FFFFFF;\n",
              "      --disabled-bg-color: #3B4455;\n",
              "      --disabled-fill-color: #666;\n",
              "  }\n",
              "\n",
              "  .colab-df-quickchart {\n",
              "    background-color: var(--bg-color);\n",
              "    border: none;\n",
              "    border-radius: 50%;\n",
              "    cursor: pointer;\n",
              "    display: none;\n",
              "    fill: var(--fill-color);\n",
              "    height: 32px;\n",
              "    padding: 0;\n",
              "    width: 32px;\n",
              "  }\n",
              "\n",
              "  .colab-df-quickchart:hover {\n",
              "    background-color: var(--hover-bg-color);\n",
              "    box-shadow: 0 1px 2px rgba(60, 64, 67, 0.3), 0 1px 3px 1px rgba(60, 64, 67, 0.15);\n",
              "    fill: var(--button-hover-fill-color);\n",
              "  }\n",
              "\n",
              "  .colab-df-quickchart-complete:disabled,\n",
              "  .colab-df-quickchart-complete:disabled:hover {\n",
              "    background-color: var(--disabled-bg-color);\n",
              "    fill: var(--disabled-fill-color);\n",
              "    box-shadow: none;\n",
              "  }\n",
              "\n",
              "  .colab-df-spinner {\n",
              "    border: 2px solid var(--fill-color);\n",
              "    border-color: transparent;\n",
              "    border-bottom-color: var(--fill-color);\n",
              "    animation:\n",
              "      spin 1s steps(1) infinite;\n",
              "  }\n",
              "\n",
              "  @keyframes spin {\n",
              "    0% {\n",
              "      border-color: transparent;\n",
              "      border-bottom-color: var(--fill-color);\n",
              "      border-left-color: var(--fill-color);\n",
              "    }\n",
              "    20% {\n",
              "      border-color: transparent;\n",
              "      border-left-color: var(--fill-color);\n",
              "      border-top-color: var(--fill-color);\n",
              "    }\n",
              "    30% {\n",
              "      border-color: transparent;\n",
              "      border-left-color: var(--fill-color);\n",
              "      border-top-color: var(--fill-color);\n",
              "      border-right-color: var(--fill-color);\n",
              "    }\n",
              "    40% {\n",
              "      border-color: transparent;\n",
              "      border-right-color: var(--fill-color);\n",
              "      border-top-color: var(--fill-color);\n",
              "    }\n",
              "    60% {\n",
              "      border-color: transparent;\n",
              "      border-right-color: var(--fill-color);\n",
              "    }\n",
              "    80% {\n",
              "      border-color: transparent;\n",
              "      border-right-color: var(--fill-color);\n",
              "      border-bottom-color: var(--fill-color);\n",
              "    }\n",
              "    90% {\n",
              "      border-color: transparent;\n",
              "      border-bottom-color: var(--fill-color);\n",
              "    }\n",
              "  }\n",
              "</style>\n",
              "\n",
              "  <script>\n",
              "    async function quickchart(key) {\n",
              "      const quickchartButtonEl =\n",
              "        document.querySelector('#' + key + ' button');\n",
              "      quickchartButtonEl.disabled = true;  // To prevent multiple clicks.\n",
              "      quickchartButtonEl.classList.add('colab-df-spinner');\n",
              "      try {\n",
              "        const charts = await google.colab.kernel.invokeFunction(\n",
              "            'suggestCharts', [key], {});\n",
              "      } catch (error) {\n",
              "        console.error('Error during call to suggestCharts:', error);\n",
              "      }\n",
              "      quickchartButtonEl.classList.remove('colab-df-spinner');\n",
              "      quickchartButtonEl.classList.add('colab-df-quickchart-complete');\n",
              "    }\n",
              "    (() => {\n",
              "      let quickchartButtonEl =\n",
              "        document.querySelector('#df-e19d3b6a-e032-4bd7-a09c-0b3c4db7a5e7 button');\n",
              "      quickchartButtonEl.style.display =\n",
              "        google.colab.kernel.accessAllowed ? 'block' : 'none';\n",
              "    })();\n",
              "  </script>\n",
              "</div>\n",
              "    </div>\n",
              "  </div>\n"
            ],
            "application/vnd.google.colaboratory.intrinsic+json": {
              "type": "dataframe",
              "variable_name": "df",
              "summary": "{\n  \"name\": \"df\",\n  \"rows\": 250,\n  \"fields\": [\n    {\n      \"column\": \"rating\",\n      \"properties\": {\n        \"dtype\": \"number\",\n        \"std\": 1.531259292242931,\n        \"min\": 1.0,\n        \"max\": 5.0,\n        \"num_unique_values\": 5,\n        \"samples\": [\n          2.0,\n          4.0,\n          3.0\n        ],\n        \"semantic_type\": \"\",\n        \"description\": \"\"\n      }\n    },\n    {\n      \"column\": \"title\",\n      \"properties\": {\n        \"dtype\": \"string\",\n        \"num_unique_values\": 220,\n        \"samples\": [\n          \"Perfect\",\n          \"beware\",\n          \"Never worked properly\"\n        ],\n        \"semantic_type\": \"\",\n        \"description\": \"\"\n      }\n    },\n    {\n      \"column\": \"text\",\n      \"properties\": {\n        \"dtype\": \"string\",\n        \"num_unique_values\": 249,\n        \"samples\": [\n          \"I was pretty disappointed with this wii product. We ordered it for the whole family to enjoy, but clearly, the kids (under 7) could not maneuver the guitar. My kids are very musical and just could not play this game. The biggest problem was that, initially, you only have access to about five songs. The product info says something like 45 songs...no way. My friend says that you have to play ALL five songs well enough to pass and then you get access to more songs, but, do I have to do that every time I want to play a different song? There was nothing in the instructions about accessing all the songs. I don't want to jump through hoops when I play a game, this was not worth it for our family to keep. If the product description were better I would have bought something different right off the bat and not wasted anybody's time.\",\n          \"I would've gave it a better review if it would've came with at least a basic headset. Now a days all consoles come with one but yet this one decides not to add one? Also, when its hooked to my 4K tv and I turn on the UHD for the HDMI port on which the xbox is connected to it doesn't work. Pretty much as if its not compatible even though its advertised that it plays 4k.\",\n          \"Excellent camera. Works exactly as expected. Bought used but looks like new.<br /><br />No complaints, I am happy, that is all! :-)\"\n        ],\n        \"semantic_type\": \"\",\n        \"description\": \"\"\n      }\n    },\n    {\n      \"column\": \"images\",\n      \"properties\": {\n        \"dtype\": \"category\",\n        \"num_unique_values\": 13,\n        \"samples\": [\n          \"[{'small_image_url': 'https://m.media-amazon.com/images/I/61E3VaKljfL._SL256_.jpg', 'medium_image_url': 'https://m.media-amazon.com/images/I/61E3VaKljfL._SL800_.jpg', 'large_image_url': 'https://m.media-amazon.com/images/I/61E3VaKljfL._SL1600_.jpg', 'attachment_type': 'IMAGE'}, {'small_image_url': 'https://m.media-amazon.com/images/I/61R1G0aeLGL._SL256_.jpg', 'medium_image_url': 'https://m.media-amazon.com/images/I/61R1G0aeLGL._SL800_.jpg', 'large_image_url': 'https://m.media-amazon.com/images/I/61R1G0aeLGL._SL1600_.jpg', 'attachment_type': 'IMAGE'}, {'small_image_url': 'https://m.media-amazon.com/images/I/61ZYSCNf-OL._SL256_.jpg', 'medium_image_url': 'https://m.media-amazon.com/images/I/61ZYSCNf-OL._SL800_.jpg', 'large_image_url': 'https://m.media-amazon.com/images/I/61ZYSCNf-OL._SL1600_.jpg', 'attachment_type': 'IMAGE'}, {'small_image_url': 'https://m.media-amazon.com/images/I/61tkIpGZPSL._SL256_.jpg', 'medium_image_url': 'https://m.media-amazon.com/images/I/61tkIpGZPSL._SL800_.jpg', 'large_image_url': 'https://m.media-amazon.com/images/I/61tkIpGZPSL._SL1600_.jpg', 'attachment_type': 'IMAGE'}, {'small_image_url': 'https://m.media-amazon.com/images/I/61w2TVXSgLL._SL256_.jpg', 'medium_image_url': 'https://m.media-amazon.com/images/I/61w2TVXSgLL._SL800_.jpg', 'large_image_url': 'https://m.media-amazon.com/images/I/61w2TVXSgLL._SL1600_.jpg', 'attachment_type': 'IMAGE'}, {'small_image_url': 'https://m.media-amazon.com/images/I/71Zr-rd--OL._SL256_.jpg', 'medium_image_url': 'https://m.media-amazon.com/images/I/71Zr-rd--OL._SL800_.jpg', 'large_image_url': 'https://m.media-amazon.com/images/I/71Zr-rd--OL._SL1600_.jpg', 'attachment_type': 'IMAGE'}]\",\n          \"[{'small_image_url': 'https://images-na.ssl-images-amazon.com/images/I/41CIr-pFIvL._SL256_.jpg', 'medium_image_url': 'https://images-na.ssl-images-amazon.com/images/I/41CIr-pFIvL._SL800_.jpg', 'large_image_url': 'https://images-na.ssl-images-amazon.com/images/I/41CIr-pFIvL._SL1600_.jpg', 'attachment_type': 'IMAGE'}, {'small_image_url': 'https://images-na.ssl-images-amazon.com/images/I/61riA-5n28L._SL256_.jpg', 'medium_image_url': 'https://images-na.ssl-images-amazon.com/images/I/61riA-5n28L._SL800_.jpg', 'large_image_url': 'https://images-na.ssl-images-amazon.com/images/I/61riA-5n28L._SL1600_.jpg', 'attachment_type': 'IMAGE'}]\",\n          \"[]\"\n        ],\n        \"semantic_type\": \"\",\n        \"description\": \"\"\n      }\n    },\n    {\n      \"column\": \"asin\",\n      \"properties\": {\n        \"dtype\": \"string\",\n        \"num_unique_values\": 244,\n        \"samples\": [\n          \"B081DK4DYR\",\n          \"B01GW3GY3K\",\n          \"B008OQTGBQ\"\n        ],\n        \"semantic_type\": \"\",\n        \"description\": \"\"\n      }\n    },\n    {\n      \"column\": \"parent_asin\",\n      \"properties\": {\n        \"dtype\": \"string\",\n        \"num_unique_values\": 242,\n        \"samples\": [\n          \"B081DK4DYR\",\n          \"B01GW3GY3K\",\n          \"B00BIXYIU6\"\n        ],\n        \"semantic_type\": \"\",\n        \"description\": \"\"\n      }\n    },\n    {\n      \"column\": \"user_id\",\n      \"properties\": {\n        \"dtype\": \"string\",\n        \"num_unique_values\": 250,\n        \"samples\": [\n          \"AFDOQBZ7LMS7A24KQGXMLEVAHLKA\",\n          \"AFIKVDZNR7RVWA6MTQA5DJPPGZMA\",\n          \"AFHCWZP52ZFJRY7ZLV3RWP6R2JPA\"\n        ],\n        \"semantic_type\": \"\",\n        \"description\": \"\"\n      }\n    },\n    {\n      \"column\": \"timestamp\",\n      \"properties\": {\n        \"dtype\": \"number\",\n        \"std\": 134410296577,\n        \"min\": 999891771000,\n        \"max\": 1689379496939,\n        \"num_unique_values\": 250,\n        \"samples\": [\n          1628272521858,\n          1472823510000,\n          1355011518000\n        ],\n        \"semantic_type\": \"\",\n        \"description\": \"\"\n      }\n    },\n    {\n      \"column\": \"helpful_vote\",\n      \"properties\": {\n        \"dtype\": \"number\",\n        \"std\": 3,\n        \"min\": 0,\n        \"max\": 40,\n        \"num_unique_values\": 13,\n        \"samples\": [\n          7,\n          40,\n          0\n        ],\n        \"semantic_type\": \"\",\n        \"description\": \"\"\n      }\n    },\n    {\n      \"column\": \"verified_purchase\",\n      \"properties\": {\n        \"dtype\": \"boolean\",\n        \"num_unique_values\": 2,\n        \"samples\": [\n          true,\n          false\n        ],\n        \"semantic_type\": \"\",\n        \"description\": \"\"\n      }\n    }\n  ]\n}"
            }
          },
          "metadata": {},
          "execution_count": 77
        }
      ]
    },
    {
      "cell_type": "code",
      "source": [
        "print(\"Col_Name: \", df.columns.tolist()) #Print column names to understand the dataframe"
      ],
      "metadata": {
        "colab": {
          "base_uri": "https://localhost:8080/"
        },
        "id": "0wfIYlAIfDnH",
        "outputId": "cef043d9-271e-4974-ecc4-10bdc669dc73"
      },
      "execution_count": 78,
      "outputs": [
        {
          "output_type": "stream",
          "name": "stdout",
          "text": [
            "Col_Name:  ['rating', 'title', 'text', 'images', 'asin', 'parent_asin', 'user_id', 'timestamp', 'helpful_vote', 'verified_purchase']\n"
          ]
        }
      ]
    },
    {
      "cell_type": "markdown",
      "source": [
        "Determining the missing value in dataset"
      ],
      "metadata": {
        "id": "h0XzW9xolQhX"
      }
    },
    {
      "cell_type": "code",
      "source": [
        "missing_values = df.isnull().sum() #Checking missing values in the dataframe\n",
        "print(\"Missing values in each column:\")\n",
        "print(missing_values)"
      ],
      "metadata": {
        "colab": {
          "base_uri": "https://localhost:8080/"
        },
        "id": "bKqU-ec_gA2n",
        "outputId": "68b69e92-9326-4d82-be3e-2c9827d6b83e"
      },
      "execution_count": 79,
      "outputs": [
        {
          "output_type": "stream",
          "name": "stdout",
          "text": [
            "Missing values in each column:\n",
            "rating               0\n",
            "title                0\n",
            "text                 0\n",
            "images               0\n",
            "asin                 0\n",
            "parent_asin          0\n",
            "user_id              0\n",
            "timestamp            0\n",
            "helpful_vote         0\n",
            "verified_purchase    0\n",
            "dtype: int64\n"
          ]
        }
      ]
    },
    {
      "cell_type": "markdown",
      "source": [
        "It is clear that the dataset doesnot have any null values. So it saves us from working on the strategy to proceed for the further analysis"
      ],
      "metadata": {
        "id": "CMuE0TZAlnq4"
      }
    },
    {
      "cell_type": "markdown",
      "source": [
        "Find the statistical values (Like mean, median, min, max, standard deviation)"
      ],
      "metadata": {
        "id": "7BihKtTpl7Z4"
      }
    },
    {
      "cell_type": "code",
      "source": [
        "stats = df.describe() #Describing the statistical results of the numerical variables in the dataset\n",
        "\n",
        "print(\"Statistical values for numerical columns: \")\n",
        "print(stats)"
      ],
      "metadata": {
        "colab": {
          "base_uri": "https://localhost:8080/"
        },
        "id": "9finBuD2lZFL",
        "outputId": "3f2bb97f-9d89-4fa2-e006-452d59f3e211"
      },
      "execution_count": 80,
      "outputs": [
        {
          "output_type": "stream",
          "name": "stdout",
          "text": [
            "Statistical values for numerical columns: \n",
            "           rating     timestamp  helpful_vote\n",
            "count  250.000000  2.500000e+02    250.000000\n",
            "mean     3.932000  1.505415e+12      0.896000\n",
            "std      1.531259  1.344103e+11      3.571021\n",
            "min      1.000000  9.998918e+11      0.000000\n",
            "25%      3.000000  1.430257e+12      0.000000\n",
            "50%      5.000000  1.520568e+12      0.000000\n",
            "75%      5.000000  1.613523e+12      0.750000\n",
            "max      5.000000  1.689379e+12     40.000000\n"
          ]
        }
      ]
    },
    {
      "cell_type": "markdown",
      "source": [
        "Sentiment Analysis"
      ],
      "metadata": {
        "id": "xGPx1MNEMo7w"
      }
    },
    {
      "cell_type": "code",
      "source": [
        "from textblob import TextBlob"
      ],
      "metadata": {
        "id": "6s_EMgPyMlKJ"
      },
      "execution_count": 31,
      "outputs": []
    },
    {
      "cell_type": "code",
      "source": [
        "def senti_analyse(text):\n",
        "  #Using Textblob to analyse the overall sentiment analysis score for each review. It is the score combination of all words in the review\n",
        "  blob = TextBlob(text)\n",
        "  sentiment = blob.sentiment.polarity\n",
        "  return sentiment\n",
        "\n",
        "df['sentiment'] = df['text'].apply(senti_analyse)"
      ],
      "metadata": {
        "id": "-tbO6sugMl6A"
      },
      "execution_count": 81,
      "outputs": []
    },
    {
      "cell_type": "code",
      "source": [
        "print(df['sentiment'])"
      ],
      "metadata": {
        "colab": {
          "base_uri": "https://localhost:8080/"
        },
        "id": "qQ0dXtjyNMLb",
        "outputId": "843617fa-c89b-448e-c833-d810d2df445f"
      },
      "execution_count": 82,
      "outputs": [
        {
          "output_type": "stream",
          "name": "stdout",
          "text": [
            "0      0.933333\n",
            "1      0.433333\n",
            "2      0.392000\n",
            "3      0.030000\n",
            "4      0.166667\n",
            "         ...   \n",
            "245    0.200000\n",
            "246    0.700000\n",
            "247   -0.050000\n",
            "248    0.000142\n",
            "249    0.428571\n",
            "Name: sentiment, Length: 250, dtype: float64\n"
          ]
        }
      ]
    },
    {
      "cell_type": "markdown",
      "source": [
        "Plotting Sentiment results vs rating"
      ],
      "metadata": {
        "id": "0rDpKXGlNWuy"
      }
    },
    {
      "cell_type": "code",
      "source": [
        "#Plotting the graph to understand distribution of sentiment scores within different rating categories\n",
        "plt.figure(figsize =(10,8))\n",
        "plt.scatter(df['rating'], df['sentiment'], marker = 'o', label = 'Sentiment score')\n",
        "\n",
        "plt.xlabel('Game Rating')\n",
        "plt.ylabel('Sentiment Score')\n",
        "plt.title(\"Rating vs Sentiment Score\")\n",
        "\n",
        "plt.legend()\n",
        "\n",
        "plt.grid(False)\n",
        "plt.show()"
      ],
      "metadata": {
        "colab": {
          "base_uri": "https://localhost:8080/",
          "height": 718
        },
        "id": "ZoW-c7x5NSxT",
        "outputId": "a9c3bdf0-0317-4498-bf2c-c2dcd5f67432"
      },
      "execution_count": 83,
      "outputs": [
        {
          "output_type": "display_data",
          "data": {
            "text/plain": [
              "<Figure size 1000x800 with 1 Axes>"
            ],
            "image/png": "[encoded data removed]"
          },
          "metadata": {}
        }
      ]
    },
    {
      "cell_type": "code",
      "source": [
        "# Create an interactive scatter plot using Plotly\n",
        "fig = px.scatter(df1, x='Rating', y='Sentiment Score', title='Game Rating vs Sentiment Score',\n",
        "             labels={'Sentiment Score': 'Sentiment Score'},\n",
        "             color_discrete_sequence=['royalblue'])\n",
        "\n",
        "# Show the plot\n",
        "fig.show()"
      ],
      "metadata": {
        "colab": {
          "base_uri": "https://localhost:8080/",
          "height": 542
        },
        "id": "ERKHCiymUgpf",
        "outputId": "19fdfa8b-597b-471b-843e-9ccf625c67de"
      },
      "execution_count": 89,
      "outputs": [
        {
          "output_type": "display_data",
          "data": {
            "text/html": [
              "<html>\n",
              "<head><meta charset=\"utf-8\" /></head>\n",
              "<body>\n",
              "    <div>            <script src=\"https://cdnjs.cloudflare.com/ajax/libs/mathjax/2.7.5/MathJax.js?config=TeX-AMS-MML_SVG\"></script><script type=\"text/javascript\">if (window.MathJax && window.MathJax.Hub && window.MathJax.Hub.Config) {window.MathJax.Hub.Config({SVG: {font: \"STIX-Web\"}});}</script>                <script type=\"text/javascript\">window.PlotlyConfig = {MathJaxConfig: 'local'};</script>\n",
              "        <script charset=\"utf-8\" src=\"https://cdn.plot.ly/plotly-2.24.1.min.js\"></script>                <div id=\"591b97fe-b5e5-4928-9d53-1af14dd35684\" class=\"plotly-graph-div\" style=\"height:525px; width:100%;\"></div>            <script type=\"text/javascript\">                                    window.PLOTLYENV=window.PLOTLYENV || {};                                    if (document.getElementById(\"591b97fe-b5e5-4928-9d53-1af14dd35684\")) {                    Plotly.newPlot(                        \"591b97fe-b5e5-4928-9d53-1af14dd35684\",                        [{\"hovertemplate\":\"Rating=%{x}\\u003cbr\\u003eSentiment Score=%{y}\\u003cextra\\u003e\\u003c\\u002fextra\\u003e\",\"legendgroup\":\"\",\"marker\":{\"color\":\"royalblue\",\"symbol\":\"circle\"},\"mode\":\"markers\",\"name\":\"\",\"orientation\":\"v\",\"showlegend\":false,\"x\":[5.0,5.0,2.0,3.0,5.0,1.0,3.0,5.0,4.0,1.0,5.0,1.0,4.0,5.0,5.0,5.0,1.0,5.0,1.0,1.0,5.0,5.0,5.0,5.0,5.0,5.0,4.0,5.0,4.0,5.0,5.0,1.0,4.0,5.0,5.0,2.0,4.0,4.0,4.0,5.0,5.0,1.0,5.0,5.0,5.0,4.0,5.0,4.0,3.0,1.0,5.0,3.0,2.0,5.0,4.0,5.0,5.0,4.0,5.0,5.0,5.0,4.0,3.0,5.0,2.0,5.0,4.0,5.0,2.0,5.0,5.0,4.0,4.0,5.0,4.0,4.0,4.0,4.0,5.0,5.0,5.0,5.0,1.0,1.0,2.0,2.0,5.0,5.0,1.0,5.0,5.0,3.0,5.0,4.0,1.0,5.0,3.0,5.0,3.0,5.0,5.0,1.0,1.0,5.0,5.0,5.0,1.0,5.0,5.0,5.0,4.0,5.0,1.0,4.0,5.0,5.0,5.0,3.0,5.0,4.0,1.0,1.0,5.0,5.0,5.0,1.0,4.0,1.0,2.0,5.0,5.0,5.0,4.0,1.0,5.0,3.0,1.0,2.0,1.0,1.0,5.0,4.0,5.0,5.0,5.0,5.0,5.0,5.0,5.0,5.0,5.0,5.0,5.0,5.0,1.0,5.0,5.0,4.0,4.0,1.0,5.0,5.0,1.0,5.0,5.0,5.0,1.0,4.0,5.0,5.0,5.0,5.0,3.0,1.0,5.0,5.0,5.0,5.0,5.0,5.0,1.0,5.0,5.0,5.0,5.0,5.0,5.0,4.0,4.0,1.0,1.0,4.0,5.0,5.0,5.0,3.0,5.0,4.0,5.0,5.0,4.0,5.0,1.0,5.0,5.0,4.0,5.0,5.0,5.0,5.0,5.0,5.0,5.0,5.0,5.0,5.0,1.0,5.0,1.0,1.0,5.0,5.0,5.0,5.0,3.0,5.0,5.0,5.0,5.0,1.0,5.0,1.0,4.0,5.0,5.0,5.0,2.0,5.0,2.0,1.0,5.0,1.0,5.0,5.0,5.0,2.0,5.0,5.0,1.0,5.0],\"xaxis\":\"x\",\"y\":[0.9333333333333332,0.4333333333333333,0.392,0.030000000000000006,0.16666666666666666,0.0,0.13,0.8,-0.03541666666666666,0.0,-0.20000000000000004,-0.1839285714285714,0.45,0.08571428571428573,0.9,0.20750000000000002,-0.125,1.0,-0.78125,0.030952380952380936,-0.6999999999999998,0.52,0.24999999999999997,0.09492477467887298,0.4125,0.2,0.5,0.218646694214876,0.30526984126984125,0.07901483186293314,0.0,-0.45,0.5859375,0.45,0.3578571428571429,0.7,0.7,0.0,0.0037878787878787845,0.45249999999999996,0.2,0.18333333333333335,0.16666666666666666,0.09999999999999999,0.4166666666666667,-0.012500000000000011,-0.4,0.3414285714285714,0.0,-0.07666666666666667,0.4166666666666667,0.175,0.3,0.30000000000000004,0.06439393939393939,0.625,0.14,0.2583333333333333,0.5,0.14298245614035085,0.01874999999999999,0.05833333333333335,0.03216971645850951,1.0,-0.00274232804232805,0.14999999999999997,0.0,1.0,0.11666666666666665,0.85,0.04475000000000001,0.25555555555555554,0.5633333333333334,0.13819444444444443,-0.14117757242757242,0.0,0.17666666666666667,0.36527777777777776,0.4166666666666667,0.21212121212121213,0.0,0.10232176677489178,0.07142857142857142,-0.15,-0.4,0.005339285714285715,0.5722222222222222,0.7,-0.2,0.03846153846153844,0.11212121212121212,0.06979166666666667,0.44999999999999996,0.11250000000000002,0.0,0.65,-0.2916666666666667,0.6,0.0008403361344537728,0.1,0.0236111111111111,-0.18106060606060603,0.08333333333333333,0.25,0.21103896103896103,0.7,-0.11003694581280789,0.44999999999999996,0.39999999999999997,1.0,-0.16999999999999998,0.37124999999999997,0.315,0.254,0.45499999999999996,0.6333333333333333,0.18333333333333332,0.2055555555555556,0.07674533028699697,0.019270833333333327,-0.1733796296296296,-0.04242424242424244,0.3,0.0,0.8,0.10187500000000001,0.30000000000000004,0.4,-0.012581699346405207,0.04999999999999999,-0.05,0.7,0.17756410256410257,-0.5,0.5,-0.11000000000000001,-0.025,0.03531746031746032,-0.4000000000000001,-0.3311111111111111,0.08,0.1635576923076923,-0.0859375,0.2775,0.0,0.1875,0.5,0.33333333333333337,0.55,1.0,0.19382716049382717,0.078125,0.0787878787878788,0.3392857142857143,-0.5,0.3847077922077922,0.07402597402597401,0.19999999999999998,0.29652777777777783,-0.046825396825396826,0.65,0.5,-0.22619047619047622,0.45,0.1875,0.45,-0.47500000000000003,0.03749999999999998,0.36666666666666664,0.45,0.69625,0.5,0.0,0.09356060606060605,0.43333333333333335,-0.033333333333333326,-0.032812499999999994,0.5,0.3222222222222222,0.23441558441558435,0.0033333333333333435,0.3766666666666667,0.38749999999999996,0.7,0.15,-0.028749999999999987,0.25,0.14999999999999997,0.19999999999999998,0.0,-0.00555555555555556,-0.09074074074074075,0.5,0.27403273809523815,0.0,-0.1963888888888889,0.557142857142857,-0.09833333333333333,0.25,0.4333333333333334,0.25999999999999995,0.2857142857142857,0.0,1.0,0.4454545454545455,-0.034210526315789476,0.0,0.28500000000000003,0.1875,1.0,-0.3,-0.0625,0.7,0.3481344696969697,0.2208333333333333,0.08888888888888889,0.0,0.012500000000000011,-0.2,0.0,0.6666666666666666,0.48333333333333334,0.8,0.5424242424242424,0.06780141843971631,0.5,0.15324074074074076,0.09264322916666666,0.21416666666666667,0.09659090909090909,0.65,0.33124999999999993,0.3333333333333333,1.0,0.0,0.64,0.4,1.0,-0.10613275613275615,-0.12641093474426807,0.10208333333333333,0.0,0.6071428571428571,0.6,0.0,0.2,0.7,-0.05000000000000002,0.00014204545454545026,0.4285714285714286],\"yaxis\":\"y\",\"type\":\"scatter\"}],                        {\"template\":{\"data\":{\"histogram2dcontour\":[{\"type\":\"histogram2dcontour\",\"colorbar\":{\"outlinewidth\":0,\"ticks\":\"\"},\"colorscale\":[[0.0,\"#0d0887\"],[0.1111111111111111,\"#46039f\"],[0.2222222222222222,\"#7201a8\"],[0.3333333333333333,\"#9c179e\"],[0.4444444444444444,\"#bd3786\"],[0.5555555555555556,\"#d8576b\"],[0.6666666666666666,\"#ed7953\"],[0.7777777777777778,\"#fb9f3a\"],[0.8888888888888888,\"#fdca26\"],[1.0,\"#f0f921\"]]}],\"choropleth\":[{\"type\":\"choropleth\",\"colorbar\":{\"outlinewidth\":0,\"ticks\":\"\"}}],\"histogram2d\":[{\"type\":\"histogram2d\",\"colorbar\":{\"outlinewidth\":0,\"ticks\":\"\"},\"colorscale\":[[0.0,\"#0d0887\"],[0.1111111111111111,\"#46039f\"],[0.2222222222222222,\"#7201a8\"],[0.3333333333333333,\"#9c179e\"],[0.4444444444444444,\"#bd3786\"],[0.5555555555555556,\"#d8576b\"],[0.6666666666666666,\"#ed7953\"],[0.7777777777777778,\"#fb9f3a\"],[0.8888888888888888,\"#fdca26\"],[1.0,\"#f0f921\"]]}],\"heatmap\":[{\"type\":\"heatmap\",\"colorbar\":{\"outlinewidth\":0,\"ticks\":\"\"},\"colorscale\":[[0.0,\"#0d0887\"],[0.1111111111111111,\"#46039f\"],[0.2222222222222222,\"#7201a8\"],[0.3333333333333333,\"#9c179e\"],[0.4444444444444444,\"#bd3786\"],[0.5555555555555556,\"#d8576b\"],[0.6666666666666666,\"#ed7953\"],[0.7777777777777778,\"#fb9f3a\"],[0.8888888888888888,\"#fdca26\"],[1.0,\"#f0f921\"]]}],\"heatmapgl\":[{\"type\":\"heatmapgl\",\"colorbar\":{\"outlinewidth\":0,\"ticks\":\"\"},\"colorscale\":[[0.0,\"#0d0887\"],[0.1111111111111111,\"#46039f\"],[0.2222222222222222,\"#7201a8\"],[0.3333333333333333,\"#9c179e\"],[0.4444444444444444,\"#bd3786\"],[0.5555555555555556,\"#d8576b\"],[0.6666666666666666,\"#ed7953\"],[0.7777777777777778,\"#fb9f3a\"],[0.8888888888888888,\"#fdca26\"],[1.0,\"#f0f921\"]]}],\"contourcarpet\":[{\"type\":\"contourcarpet\",\"colorbar\":{\"outlinewidth\":0,\"ticks\":\"\"}}],\"contour\":[{\"type\":\"contour\",\"colorbar\":{\"outlinewidth\":0,\"ticks\":\"\"},\"colorscale\":[[0.0,\"#0d0887\"],[0.1111111111111111,\"#46039f\"],[0.2222222222222222,\"#7201a8\"],[0.3333333333333333,\"#9c179e\"],[0.4444444444444444,\"#bd3786\"],[0.5555555555555556,\"#d8576b\"],[0.6666666666666666,\"#ed7953\"],[0.7777777777777778,\"#fb9f3a\"],[0.8888888888888888,\"#fdca26\"],[1.0,\"#f0f921\"]]}],\"surface\":[{\"type\":\"surface\",\"colorbar\":{\"outlinewidth\":0,\"ticks\":\"\"},\"colorscale\":[[0.0,\"#0d0887\"],[0.1111111111111111,\"#46039f\"],[0.2222222222222222,\"#7201a8\"],[0.3333333333333333,\"#9c179e\"],[0.4444444444444444,\"#bd3786\"],[0.5555555555555556,\"#d8576b\"],[0.6666666666666666,\"#ed7953\"],[0.7777777777777778,\"#fb9f3a\"],[0.8888888888888888,\"#fdca26\"],[1.0,\"#f0f921\"]]}],\"mesh3d\":[{\"type\":\"mesh3d\",\"colorbar\":{\"outlinewidth\":0,\"ticks\":\"\"}}],\"scatter\":[{\"fillpattern\":{\"fillmode\":\"overlay\",\"size\":10,\"solidity\":0.2},\"type\":\"scatter\"}],\"parcoords\":[{\"type\":\"parcoords\",\"line\":{\"colorbar\":{\"outlinewidth\":0,\"ticks\":\"\"}}}],\"scatterpolargl\":[{\"type\":\"scatterpolargl\",\"marker\":{\"colorbar\":{\"outlinewidth\":0,\"ticks\":\"\"}}}],\"bar\":[{\"error_x\":{\"color\":\"#2a3f5f\"},\"error_y\":{\"color\":\"#2a3f5f\"},\"marker\":{\"line\":{\"color\":\"#E5ECF6\",\"width\":0.5},\"pattern\":{\"fillmode\":\"overlay\",\"size\":10,\"solidity\":0.2}},\"type\":\"bar\"}],\"scattergeo\":[{\"type\":\"scattergeo\",\"marker\":{\"colorbar\":{\"outlinewidth\":0,\"ticks\":\"\"}}}],\"scatterpolar\":[{\"type\":\"scatterpolar\",\"marker\":{\"colorbar\":{\"outlinewidth\":0,\"ticks\":\"\"}}}],\"histogram\":[{\"marker\":{\"pattern\":{\"fillmode\":\"overlay\",\"size\":10,\"solidity\":0.2}},\"type\":\"histogram\"}],\"scattergl\":[{\"type\":\"scattergl\",\"marker\":{\"colorbar\":{\"outlinewidth\":0,\"ticks\":\"\"}}}],\"scatter3d\":[{\"type\":\"scatter3d\",\"line\":{\"colorbar\":{\"outlinewidth\":0,\"ticks\":\"\"}},\"marker\":{\"colorbar\":{\"outlinewidth\":0,\"ticks\":\"\"}}}],\"scattermapbox\":[{\"type\":\"scattermapbox\",\"marker\":{\"colorbar\":{\"outlinewidth\":0,\"ticks\":\"\"}}}],\"scatterternary\":[{\"type\":\"scatterternary\",\"marker\":{\"colorbar\":{\"outlinewidth\":0,\"ticks\":\"\"}}}],\"scattercarpet\":[{\"type\":\"scattercarpet\",\"marker\":{\"colorbar\":{\"outlinewidth\":0,\"ticks\":\"\"}}}],\"carpet\":[{\"aaxis\":{\"endlinecolor\":\"#2a3f5f\",\"gridcolor\":\"white\",\"linecolor\":\"white\",\"minorgridcolor\":\"white\",\"startlinecolor\":\"#2a3f5f\"},\"baxis\":{\"endlinecolor\":\"#2a3f5f\",\"gridcolor\":\"white\",\"linecolor\":\"white\",\"minorgridcolor\":\"white\",\"startlinecolor\":\"#2a3f5f\"},\"type\":\"carpet\"}],\"table\":[{\"cells\":{\"fill\":{\"color\":\"#EBF0F8\"},\"line\":{\"color\":\"white\"}},\"header\":{\"fill\":{\"color\":\"#C8D4E3\"},\"line\":{\"color\":\"white\"}},\"type\":\"table\"}],\"barpolar\":[{\"marker\":{\"line\":{\"color\":\"#E5ECF6\",\"width\":0.5},\"pattern\":{\"fillmode\":\"overlay\",\"size\":10,\"solidity\":0.2}},\"type\":\"barpolar\"}],\"pie\":[{\"automargin\":true,\"type\":\"pie\"}]},\"layout\":{\"autotypenumbers\":\"strict\",\"colorway\":[\"#636efa\",\"#EF553B\",\"#00cc96\",\"#ab63fa\",\"#FFA15A\",\"#19d3f3\",\"#FF6692\",\"#B6E880\",\"#FF97FF\",\"#FECB52\"],\"font\":{\"color\":\"#2a3f5f\"},\"hovermode\":\"closest\",\"hoverlabel\":{\"align\":\"left\"},\"paper_bgcolor\":\"white\",\"plot_bgcolor\":\"#E5ECF6\",\"polar\":{\"bgcolor\":\"#E5ECF6\",\"angularaxis\":{\"gridcolor\":\"white\",\"linecolor\":\"white\",\"ticks\":\"\"},\"radialaxis\":{\"gridcolor\":\"white\",\"linecolor\":\"white\",\"ticks\":\"\"}},\"ternary\":{\"bgcolor\":\"#E5ECF6\",\"aaxis\":{\"gridcolor\":\"white\",\"linecolor\":\"white\",\"ticks\":\"\"},\"baxis\":{\"gridcolor\":\"white\",\"linecolor\":\"white\",\"ticks\":\"\"},\"caxis\":{\"gridcolor\":\"white\",\"linecolor\":\"white\",\"ticks\":\"\"}},\"coloraxis\":{\"colorbar\":{\"outlinewidth\":0,\"ticks\":\"\"}},\"colorscale\":{\"sequential\":[[0.0,\"#0d0887\"],[0.1111111111111111,\"#46039f\"],[0.2222222222222222,\"#7201a8\"],[0.3333333333333333,\"#9c179e\"],[0.4444444444444444,\"#bd3786\"],[0.5555555555555556,\"#d8576b\"],[0.6666666666666666,\"#ed7953\"],[0.7777777777777778,\"#fb9f3a\"],[0.8888888888888888,\"#fdca26\"],[1.0,\"#f0f921\"]],\"sequentialminus\":[[0.0,\"#0d0887\"],[0.1111111111111111,\"#46039f\"],[0.2222222222222222,\"#7201a8\"],[0.3333333333333333,\"#9c179e\"],[0.4444444444444444,\"#bd3786\"],[0.5555555555555556,\"#d8576b\"],[0.6666666666666666,\"#ed7953\"],[0.7777777777777778,\"#fb9f3a\"],[0.8888888888888888,\"#fdca26\"],[1.0,\"#f0f921\"]],\"diverging\":[[0,\"#8e0152\"],[0.1,\"#c51b7d\"],[0.2,\"#de77ae\"],[0.3,\"#f1b6da\"],[0.4,\"#fde0ef\"],[0.5,\"#f7f7f7\"],[0.6,\"#e6f5d0\"],[0.7,\"#b8e186\"],[0.8,\"#7fbc41\"],[0.9,\"#4d9221\"],[1,\"#276419\"]]},\"xaxis\":{\"gridcolor\":\"white\",\"linecolor\":\"white\",\"ticks\":\"\",\"title\":{\"standoff\":15},\"zerolinecolor\":\"white\",\"automargin\":true,\"zerolinewidth\":2},\"yaxis\":{\"gridcolor\":\"white\",\"linecolor\":\"white\",\"ticks\":\"\",\"title\":{\"standoff\":15},\"zerolinecolor\":\"white\",\"automargin\":true,\"zerolinewidth\":2},\"scene\":{\"xaxis\":{\"backgroundcolor\":\"#E5ECF6\",\"gridcolor\":\"white\",\"linecolor\":\"white\",\"showbackground\":true,\"ticks\":\"\",\"zerolinecolor\":\"white\",\"gridwidth\":2},\"yaxis\":{\"backgroundcolor\":\"#E5ECF6\",\"gridcolor\":\"white\",\"linecolor\":\"white\",\"showbackground\":true,\"ticks\":\"\",\"zerolinecolor\":\"white\",\"gridwidth\":2},\"zaxis\":{\"backgroundcolor\":\"#E5ECF6\",\"gridcolor\":\"white\",\"linecolor\":\"white\",\"showbackground\":true,\"ticks\":\"\",\"zerolinecolor\":\"white\",\"gridwidth\":2}},\"shapedefaults\":{\"line\":{\"color\":\"#2a3f5f\"}},\"annotationdefaults\":{\"arrowcolor\":\"#2a3f5f\",\"arrowhead\":0,\"arrowwidth\":1},\"geo\":{\"bgcolor\":\"white\",\"landcolor\":\"#E5ECF6\",\"subunitcolor\":\"white\",\"showland\":true,\"showlakes\":true,\"lakecolor\":\"white\"},\"title\":{\"x\":0.05},\"mapbox\":{\"style\":\"light\"}}},\"xaxis\":{\"anchor\":\"y\",\"domain\":[0.0,1.0],\"title\":{\"text\":\"Rating\"}},\"yaxis\":{\"anchor\":\"x\",\"domain\":[0.0,1.0],\"title\":{\"text\":\"Sentiment Score\"}},\"legend\":{\"tracegroupgap\":0},\"title\":{\"text\":\"Game Rating vs Sentiment Score\"}},                        {\"responsive\": true}                    ).then(function(){\n",
              "                            \n",
              "var gd = document.getElementById('591b97fe-b5e5-4928-9d53-1af14dd35684');\n",
              "var x = new MutationObserver(function (mutations, observer) {{\n",
              "        var display = window.getComputedStyle(gd).display;\n",
              "        if (!display || display === 'none') {{\n",
              "            console.log([gd, 'removed!']);\n",
              "            Plotly.purge(gd);\n",
              "            observer.disconnect();\n",
              "        }}\n",
              "}});\n",
              "\n",
              "// Listen for the removal of the full notebook cells\n",
              "var notebookContainer = gd.closest('#notebook-container');\n",
              "if (notebookContainer) {{\n",
              "    x.observe(notebookContainer, {childList: true});\n",
              "}}\n",
              "\n",
              "// Listen for the clearing of the current output cell\n",
              "var outputEl = gd.closest('.output');\n",
              "if (outputEl) {{\n",
              "    x.observe(outputEl, {childList: true});\n",
              "}}\n",
              "\n",
              "                        })                };                            </script>        </div>\n",
              "</body>\n",
              "</html>"
            ]
          },
          "metadata": {}
        }
      ]
    },
    {
      "cell_type": "code",
      "source": [
        "#Plotitng a box plot to understand distribution of sentiment scores within different rating categories\n",
        "\n",
        "plt.figure(figsize=(10,8))\n",
        "sns.boxplot(x='rating', y='sentiment', data=df, palette='coolwarm')\n",
        "plt.xlabel('Game Rating')\n",
        "plt.ylabel ('Sentiment score')\n",
        "plt.title('Rating vs sentiment score')\n",
        "plt.grid(False)\n",
        "plt.show()"
      ],
      "metadata": {
        "colab": {
          "base_uri": "https://localhost:8080/",
          "height": 718
        },
        "id": "hJigayKOOFtG",
        "outputId": "658f6a84-16a6-429b-c08a-bef746283fe5"
      },
      "execution_count": 84,
      "outputs": [
        {
          "output_type": "display_data",
          "data": {
            "text/plain": [
              "<Figure size 1000x800 with 1 Axes>"
            ],
            "image/png": "[encoded data removed]"
          },
          "metadata": {}
        }
      ]
    },
    {
      "cell_type": "code",
      "source": [
        "data = {'Rating': df['rating'], 'Sentiment Score': df['sentiment']}\n",
        "df1 = pd.DataFrame(data)"
      ],
      "metadata": {
        "id": "wyrPNL_qXsQu"
      },
      "execution_count": 85,
      "outputs": []
    },
    {
      "cell_type": "code",
      "source": [
        "\n",
        "# Create an interactive box plot using Plotly\n",
        "fig = px.box(df1, x='Rating', y='Sentiment Score', title='Game Rating vs Sentiment Score',\n",
        "             labels={'sentiment': 'Sentiment Score'},\n",
        "             color_discrete_sequence=['red'])\n",
        "\n",
        "# Show the plot\n",
        "fig.show()"
      ],
      "metadata": {
        "colab": {
          "base_uri": "https://localhost:8080/",
          "height": 542
        },
        "id": "NCspdF4vTPsG",
        "outputId": "de37eb20-9994-4c49-cbc6-b8c7827892c2"
      },
      "execution_count": 124,
      "outputs": [
        {
          "output_type": "display_data",
          "data": {
            "text/html": [
              "<html>\n",
              "<head><meta charset=\"utf-8\" /></head>\n",
              "<body>\n",
              "    <div>            <script src=\"https://cdnjs.cloudflare.com/ajax/libs/mathjax/2.7.5/MathJax.js?config=TeX-AMS-MML_SVG\"></script><script type=\"text/javascript\">if (window.MathJax && window.MathJax.Hub && window.MathJax.Hub.Config) {window.MathJax.Hub.Config({SVG: {font: \"STIX-Web\"}});}</script>                <script type=\"text/javascript\">window.PlotlyConfig = {MathJaxConfig: 'local'};</script>\n",
              "        <script charset=\"utf-8\" src=\"https://cdn.plot.ly/plotly-2.24.1.min.js\"></script>                <div id=\"78f194e5-38a6-4881-b0a5-1dbb97e99920\" class=\"plotly-graph-div\" style=\"height:525px; width:100%;\"></div>            <script type=\"text/javascript\">                                    window.PLOTLYENV=window.PLOTLYENV || {};                                    if (document.getElementById(\"78f194e5-38a6-4881-b0a5-1dbb97e99920\")) {                    Plotly.newPlot(                        \"78f194e5-38a6-4881-b0a5-1dbb97e99920\",                        [{\"alignmentgroup\":\"True\",\"hovertemplate\":\"Rating=%{x}\\u003cbr\\u003eSentiment Score=%{y}\\u003cextra\\u003e\\u003c\\u002fextra\\u003e\",\"legendgroup\":\"\",\"marker\":{\"color\":\"red\"},\"name\":\"\",\"notched\":false,\"offsetgroup\":\"\",\"orientation\":\"v\",\"showlegend\":false,\"x\":[5.0,5.0,2.0,3.0,5.0,1.0,3.0,5.0,4.0,1.0,5.0,1.0,4.0,5.0,5.0,5.0,1.0,5.0,1.0,1.0,5.0,5.0,5.0,5.0,5.0,5.0,4.0,5.0,4.0,5.0,5.0,1.0,4.0,5.0,5.0,2.0,4.0,4.0,4.0,5.0,5.0,1.0,5.0,5.0,5.0,4.0,5.0,4.0,3.0,1.0,5.0,3.0,2.0,5.0,4.0,5.0,5.0,4.0,5.0,5.0,5.0,4.0,3.0,5.0,2.0,5.0,4.0,5.0,2.0,5.0,5.0,4.0,4.0,5.0,4.0,4.0,4.0,4.0,5.0,5.0,5.0,5.0,1.0,1.0,2.0,2.0,5.0,5.0,1.0,5.0,5.0,3.0,5.0,4.0,1.0,5.0,3.0,5.0,3.0,5.0,5.0,1.0,1.0,5.0,5.0,5.0,1.0,5.0,5.0,5.0,4.0,5.0,1.0,4.0,5.0,5.0,5.0,3.0,5.0,4.0,1.0,1.0,5.0,5.0,5.0,1.0,4.0,1.0,2.0,5.0,5.0,5.0,4.0,1.0,5.0,3.0,1.0,2.0,1.0,1.0,5.0,4.0,5.0,5.0,5.0,5.0,5.0,5.0,5.0,5.0,5.0,5.0,5.0,5.0,1.0,5.0,5.0,4.0,4.0,1.0,5.0,5.0,1.0,5.0,5.0,5.0,1.0,4.0,5.0,5.0,5.0,5.0,3.0,1.0,5.0,5.0,5.0,5.0,5.0,5.0,1.0,5.0,5.0,5.0,5.0,5.0,5.0,4.0,4.0,1.0,1.0,4.0,5.0,5.0,5.0,3.0,5.0,4.0,5.0,5.0,4.0,5.0,1.0,5.0,5.0,4.0,5.0,5.0,5.0,5.0,5.0,5.0,5.0,5.0,5.0,5.0,1.0,5.0,1.0,1.0,5.0,5.0,5.0,5.0,3.0,5.0,5.0,5.0,5.0,1.0,5.0,1.0,4.0,5.0,5.0,5.0,2.0,5.0,2.0,1.0,5.0,1.0,5.0,5.0,5.0,2.0,5.0,5.0,1.0,5.0],\"x0\":\" \",\"xaxis\":\"x\",\"y\":[0.9333333333333332,0.4333333333333333,0.392,0.030000000000000006,0.16666666666666666,0.0,0.13,0.8,-0.03541666666666666,0.0,-0.20000000000000004,-0.1839285714285714,0.45,0.08571428571428573,0.9,0.20750000000000002,-0.125,1.0,-0.78125,0.030952380952380936,-0.6999999999999998,0.52,0.24999999999999997,0.09492477467887298,0.4125,0.2,0.5,0.218646694214876,0.30526984126984125,0.07901483186293314,0.0,-0.45,0.5859375,0.45,0.3578571428571429,0.7,0.7,0.0,0.0037878787878787845,0.45249999999999996,0.2,0.18333333333333335,0.16666666666666666,0.09999999999999999,0.4166666666666667,-0.012500000000000011,-0.4,0.3414285714285714,0.0,-0.07666666666666667,0.4166666666666667,0.175,0.3,0.30000000000000004,0.06439393939393939,0.625,0.14,0.2583333333333333,0.5,0.14298245614035085,0.01874999999999999,0.05833333333333335,0.03216971645850951,1.0,-0.00274232804232805,0.14999999999999997,0.0,1.0,0.11666666666666665,0.85,0.04475000000000001,0.25555555555555554,0.5633333333333334,0.13819444444444443,-0.14117757242757242,0.0,0.17666666666666667,0.36527777777777776,0.4166666666666667,0.21212121212121213,0.0,0.10232176677489178,0.07142857142857142,-0.15,-0.4,0.005339285714285715,0.5722222222222222,0.7,-0.2,0.03846153846153844,0.11212121212121212,0.06979166666666667,0.44999999999999996,0.11250000000000002,0.0,0.65,-0.2916666666666667,0.6,0.0008403361344537728,0.1,0.0236111111111111,-0.18106060606060603,0.08333333333333333,0.25,0.21103896103896103,0.7,-0.11003694581280789,0.44999999999999996,0.39999999999999997,1.0,-0.16999999999999998,0.37124999999999997,0.315,0.254,0.45499999999999996,0.6333333333333333,0.18333333333333332,0.2055555555555556,0.07674533028699697,0.019270833333333327,-0.1733796296296296,-0.04242424242424244,0.3,0.0,0.8,0.10187500000000001,0.30000000000000004,0.4,-0.012581699346405207,0.04999999999999999,-0.05,0.7,0.17756410256410257,-0.5,0.5,-0.11000000000000001,-0.025,0.03531746031746032,-0.4000000000000001,-0.3311111111111111,0.08,0.1635576923076923,-0.0859375,0.2775,0.0,0.1875,0.5,0.33333333333333337,0.55,1.0,0.19382716049382717,0.078125,0.0787878787878788,0.3392857142857143,-0.5,0.3847077922077922,0.07402597402597401,0.19999999999999998,0.29652777777777783,-0.046825396825396826,0.65,0.5,-0.22619047619047622,0.45,0.1875,0.45,-0.47500000000000003,0.03749999999999998,0.36666666666666664,0.45,0.69625,0.5,0.0,0.09356060606060605,0.43333333333333335,-0.033333333333333326,-0.032812499999999994,0.5,0.3222222222222222,0.23441558441558435,0.0033333333333333435,0.3766666666666667,0.38749999999999996,0.7,0.15,-0.028749999999999987,0.25,0.14999999999999997,0.19999999999999998,0.0,-0.00555555555555556,-0.09074074074074075,0.5,0.27403273809523815,0.0,-0.1963888888888889,0.557142857142857,-0.09833333333333333,0.25,0.4333333333333334,0.25999999999999995,0.2857142857142857,0.0,1.0,0.4454545454545455,-0.034210526315789476,0.0,0.28500000000000003,0.1875,1.0,-0.3,-0.0625,0.7,0.3481344696969697,0.2208333333333333,0.08888888888888889,0.0,0.012500000000000011,-0.2,0.0,0.6666666666666666,0.48333333333333334,0.8,0.5424242424242424,0.06780141843971631,0.5,0.15324074074074076,0.09264322916666666,0.21416666666666667,0.09659090909090909,0.65,0.33124999999999993,0.3333333333333333,1.0,0.0,0.64,0.4,1.0,-0.10613275613275615,-0.12641093474426807,0.10208333333333333,0.0,0.6071428571428571,0.6,0.0,0.2,0.7,-0.05000000000000002,0.00014204545454545026,0.4285714285714286],\"y0\":\" \",\"yaxis\":\"y\",\"type\":\"box\"}],                        {\"template\":{\"data\":{\"histogram2dcontour\":[{\"type\":\"histogram2dcontour\",\"colorbar\":{\"outlinewidth\":0,\"ticks\":\"\"},\"colorscale\":[[0.0,\"#0d0887\"],[0.1111111111111111,\"#46039f\"],[0.2222222222222222,\"#7201a8\"],[0.3333333333333333,\"#9c179e\"],[0.4444444444444444,\"#bd3786\"],[0.5555555555555556,\"#d8576b\"],[0.6666666666666666,\"#ed7953\"],[0.7777777777777778,\"#fb9f3a\"],[0.8888888888888888,\"#fdca26\"],[1.0,\"#f0f921\"]]}],\"choropleth\":[{\"type\":\"choropleth\",\"colorbar\":{\"outlinewidth\":0,\"ticks\":\"\"}}],\"histogram2d\":[{\"type\":\"histogram2d\",\"colorbar\":{\"outlinewidth\":0,\"ticks\":\"\"},\"colorscale\":[[0.0,\"#0d0887\"],[0.1111111111111111,\"#46039f\"],[0.2222222222222222,\"#7201a8\"],[0.3333333333333333,\"#9c179e\"],[0.4444444444444444,\"#bd3786\"],[0.5555555555555556,\"#d8576b\"],[0.6666666666666666,\"#ed7953\"],[0.7777777777777778,\"#fb9f3a\"],[0.8888888888888888,\"#fdca26\"],[1.0,\"#f0f921\"]]}],\"heatmap\":[{\"type\":\"heatmap\",\"colorbar\":{\"outlinewidth\":0,\"ticks\":\"\"},\"colorscale\":[[0.0,\"#0d0887\"],[0.1111111111111111,\"#46039f\"],[0.2222222222222222,\"#7201a8\"],[0.3333333333333333,\"#9c179e\"],[0.4444444444444444,\"#bd3786\"],[0.5555555555555556,\"#d8576b\"],[0.6666666666666666,\"#ed7953\"],[0.7777777777777778,\"#fb9f3a\"],[0.8888888888888888,\"#fdca26\"],[1.0,\"#f0f921\"]]}],\"heatmapgl\":[{\"type\":\"heatmapgl\",\"colorbar\":{\"outlinewidth\":0,\"ticks\":\"\"},\"colorscale\":[[0.0,\"#0d0887\"],[0.1111111111111111,\"#46039f\"],[0.2222222222222222,\"#7201a8\"],[0.3333333333333333,\"#9c179e\"],[0.4444444444444444,\"#bd3786\"],[0.5555555555555556,\"#d8576b\"],[0.6666666666666666,\"#ed7953\"],[0.7777777777777778,\"#fb9f3a\"],[0.8888888888888888,\"#fdca26\"],[1.0,\"#f0f921\"]]}],\"contourcarpet\":[{\"type\":\"contourcarpet\",\"colorbar\":{\"outlinewidth\":0,\"ticks\":\"\"}}],\"contour\":[{\"type\":\"contour\",\"colorbar\":{\"outlinewidth\":0,\"ticks\":\"\"},\"colorscale\":[[0.0,\"#0d0887\"],[0.1111111111111111,\"#46039f\"],[0.2222222222222222,\"#7201a8\"],[0.3333333333333333,\"#9c179e\"],[0.4444444444444444,\"#bd3786\"],[0.5555555555555556,\"#d8576b\"],[0.6666666666666666,\"#ed7953\"],[0.7777777777777778,\"#fb9f3a\"],[0.8888888888888888,\"#fdca26\"],[1.0,\"#f0f921\"]]}],\"surface\":[{\"type\":\"surface\",\"colorbar\":{\"outlinewidth\":0,\"ticks\":\"\"},\"colorscale\":[[0.0,\"#0d0887\"],[0.1111111111111111,\"#46039f\"],[0.2222222222222222,\"#7201a8\"],[0.3333333333333333,\"#9c179e\"],[0.4444444444444444,\"#bd3786\"],[0.5555555555555556,\"#d8576b\"],[0.6666666666666666,\"#ed7953\"],[0.7777777777777778,\"#fb9f3a\"],[0.8888888888888888,\"#fdca26\"],[1.0,\"#f0f921\"]]}],\"mesh3d\":[{\"type\":\"mesh3d\",\"colorbar\":{\"outlinewidth\":0,\"ticks\":\"\"}}],\"scatter\":[{\"fillpattern\":{\"fillmode\":\"overlay\",\"size\":10,\"solidity\":0.2},\"type\":\"scatter\"}],\"parcoords\":[{\"type\":\"parcoords\",\"line\":{\"colorbar\":{\"outlinewidth\":0,\"ticks\":\"\"}}}],\"scatterpolargl\":[{\"type\":\"scatterpolargl\",\"marker\":{\"colorbar\":{\"outlinewidth\":0,\"ticks\":\"\"}}}],\"bar\":[{\"error_x\":{\"color\":\"#2a3f5f\"},\"error_y\":{\"color\":\"#2a3f5f\"},\"marker\":{\"line\":{\"color\":\"#E5ECF6\",\"width\":0.5},\"pattern\":{\"fillmode\":\"overlay\",\"size\":10,\"solidity\":0.2}},\"type\":\"bar\"}],\"scattergeo\":[{\"type\":\"scattergeo\",\"marker\":{\"colorbar\":{\"outlinewidth\":0,\"ticks\":\"\"}}}],\"scatterpolar\":[{\"type\":\"scatterpolar\",\"marker\":{\"colorbar\":{\"outlinewidth\":0,\"ticks\":\"\"}}}],\"histogram\":[{\"marker\":{\"pattern\":{\"fillmode\":\"overlay\",\"size\":10,\"solidity\":0.2}},\"type\":\"histogram\"}],\"scattergl\":[{\"type\":\"scattergl\",\"marker\":{\"colorbar\":{\"outlinewidth\":0,\"ticks\":\"\"}}}],\"scatter3d\":[{\"type\":\"scatter3d\",\"line\":{\"colorbar\":{\"outlinewidth\":0,\"ticks\":\"\"}},\"marker\":{\"colorbar\":{\"outlinewidth\":0,\"ticks\":\"\"}}}],\"scattermapbox\":[{\"type\":\"scattermapbox\",\"marker\":{\"colorbar\":{\"outlinewidth\":0,\"ticks\":\"\"}}}],\"scatterternary\":[{\"type\":\"scatterternary\",\"marker\":{\"colorbar\":{\"outlinewidth\":0,\"ticks\":\"\"}}}],\"scattercarpet\":[{\"type\":\"scattercarpet\",\"marker\":{\"colorbar\":{\"outlinewidth\":0,\"ticks\":\"\"}}}],\"carpet\":[{\"aaxis\":{\"endlinecolor\":\"#2a3f5f\",\"gridcolor\":\"white\",\"linecolor\":\"white\",\"minorgridcolor\":\"white\",\"startlinecolor\":\"#2a3f5f\"},\"baxis\":{\"endlinecolor\":\"#2a3f5f\",\"gridcolor\":\"white\",\"linecolor\":\"white\",\"minorgridcolor\":\"white\",\"startlinecolor\":\"#2a3f5f\"},\"type\":\"carpet\"}],\"table\":[{\"cells\":{\"fill\":{\"color\":\"#EBF0F8\"},\"line\":{\"color\":\"white\"}},\"header\":{\"fill\":{\"color\":\"#C8D4E3\"},\"line\":{\"color\":\"white\"}},\"type\":\"table\"}],\"barpolar\":[{\"marker\":{\"line\":{\"color\":\"#E5ECF6\",\"width\":0.5},\"pattern\":{\"fillmode\":\"overlay\",\"size\":10,\"solidity\":0.2}},\"type\":\"barpolar\"}],\"pie\":[{\"automargin\":true,\"type\":\"pie\"}]},\"layout\":{\"autotypenumbers\":\"strict\",\"colorway\":[\"#636efa\",\"#EF553B\",\"#00cc96\",\"#ab63fa\",\"#FFA15A\",\"#19d3f3\",\"#FF6692\",\"#B6E880\",\"#FF97FF\",\"#FECB52\"],\"font\":{\"color\":\"#2a3f5f\"},\"hovermode\":\"closest\",\"hoverlabel\":{\"align\":\"left\"},\"paper_bgcolor\":\"white\",\"plot_bgcolor\":\"#E5ECF6\",\"polar\":{\"bgcolor\":\"#E5ECF6\",\"angularaxis\":{\"gridcolor\":\"white\",\"linecolor\":\"white\",\"ticks\":\"\"},\"radialaxis\":{\"gridcolor\":\"white\",\"linecolor\":\"white\",\"ticks\":\"\"}},\"ternary\":{\"bgcolor\":\"#E5ECF6\",\"aaxis\":{\"gridcolor\":\"white\",\"linecolor\":\"white\",\"ticks\":\"\"},\"baxis\":{\"gridcolor\":\"white\",\"linecolor\":\"white\",\"ticks\":\"\"},\"caxis\":{\"gridcolor\":\"white\",\"linecolor\":\"white\",\"ticks\":\"\"}},\"coloraxis\":{\"colorbar\":{\"outlinewidth\":0,\"ticks\":\"\"}},\"colorscale\":{\"sequential\":[[0.0,\"#0d0887\"],[0.1111111111111111,\"#46039f\"],[0.2222222222222222,\"#7201a8\"],[0.3333333333333333,\"#9c179e\"],[0.4444444444444444,\"#bd3786\"],[0.5555555555555556,\"#d8576b\"],[0.6666666666666666,\"#ed7953\"],[0.7777777777777778,\"#fb9f3a\"],[0.8888888888888888,\"#fdca26\"],[1.0,\"#f0f921\"]],\"sequentialminus\":[[0.0,\"#0d0887\"],[0.1111111111111111,\"#46039f\"],[0.2222222222222222,\"#7201a8\"],[0.3333333333333333,\"#9c179e\"],[0.4444444444444444,\"#bd3786\"],[0.5555555555555556,\"#d8576b\"],[0.6666666666666666,\"#ed7953\"],[0.7777777777777778,\"#fb9f3a\"],[0.8888888888888888,\"#fdca26\"],[1.0,\"#f0f921\"]],\"diverging\":[[0,\"#8e0152\"],[0.1,\"#c51b7d\"],[0.2,\"#de77ae\"],[0.3,\"#f1b6da\"],[0.4,\"#fde0ef\"],[0.5,\"#f7f7f7\"],[0.6,\"#e6f5d0\"],[0.7,\"#b8e186\"],[0.8,\"#7fbc41\"],[0.9,\"#4d9221\"],[1,\"#276419\"]]},\"xaxis\":{\"gridcolor\":\"white\",\"linecolor\":\"white\",\"ticks\":\"\",\"title\":{\"standoff\":15},\"zerolinecolor\":\"white\",\"automargin\":true,\"zerolinewidth\":2},\"yaxis\":{\"gridcolor\":\"white\",\"linecolor\":\"white\",\"ticks\":\"\",\"title\":{\"standoff\":15},\"zerolinecolor\":\"white\",\"automargin\":true,\"zerolinewidth\":2},\"scene\":{\"xaxis\":{\"backgroundcolor\":\"#E5ECF6\",\"gridcolor\":\"white\",\"linecolor\":\"white\",\"showbackground\":true,\"ticks\":\"\",\"zerolinecolor\":\"white\",\"gridwidth\":2},\"yaxis\":{\"backgroundcolor\":\"#E5ECF6\",\"gridcolor\":\"white\",\"linecolor\":\"white\",\"showbackground\":true,\"ticks\":\"\",\"zerolinecolor\":\"white\",\"gridwidth\":2},\"zaxis\":{\"backgroundcolor\":\"#E5ECF6\",\"gridcolor\":\"white\",\"linecolor\":\"white\",\"showbackground\":true,\"ticks\":\"\",\"zerolinecolor\":\"white\",\"gridwidth\":2}},\"shapedefaults\":{\"line\":{\"color\":\"#2a3f5f\"}},\"annotationdefaults\":{\"arrowcolor\":\"#2a3f5f\",\"arrowhead\":0,\"arrowwidth\":1},\"geo\":{\"bgcolor\":\"white\",\"landcolor\":\"#E5ECF6\",\"subunitcolor\":\"white\",\"showland\":true,\"showlakes\":true,\"lakecolor\":\"white\"},\"title\":{\"x\":0.05},\"mapbox\":{\"style\":\"light\"}}},\"xaxis\":{\"anchor\":\"y\",\"domain\":[0.0,1.0],\"title\":{\"text\":\"Rating\"}},\"yaxis\":{\"anchor\":\"x\",\"domain\":[0.0,1.0],\"title\":{\"text\":\"Sentiment Score\"}},\"legend\":{\"tracegroupgap\":0},\"title\":{\"text\":\"Game Rating vs Sentiment Score\"},\"boxmode\":\"group\"},                        {\"responsive\": true}                    ).then(function(){\n",
              "                            \n",
              "var gd = document.getElementById('78f194e5-38a6-4881-b0a5-1dbb97e99920');\n",
              "var x = new MutationObserver(function (mutations, observer) {{\n",
              "        var display = window.getComputedStyle(gd).display;\n",
              "        if (!display || display === 'none') {{\n",
              "            console.log([gd, 'removed!']);\n",
              "            Plotly.purge(gd);\n",
              "            observer.disconnect();\n",
              "        }}\n",
              "}});\n",
              "\n",
              "// Listen for the removal of the full notebook cells\n",
              "var notebookContainer = gd.closest('#notebook-container');\n",
              "if (notebookContainer) {{\n",
              "    x.observe(notebookContainer, {childList: true});\n",
              "}}\n",
              "\n",
              "// Listen for the clearing of the current output cell\n",
              "var outputEl = gd.closest('.output');\n",
              "if (outputEl) {{\n",
              "    x.observe(outputEl, {childList: true});\n",
              "}}\n",
              "\n",
              "                        })                };                            </script>        </div>\n",
              "</body>\n",
              "</html>"
            ]
          },
          "metadata": {}
        }
      ]
    },
    {
      "cell_type": "markdown",
      "source": [
        "Temporal trends (Number of reviews over time)"
      ],
      "metadata": {
        "id": "P2QhyUTVZJfl"
      }
    },
    {
      "cell_type": "code",
      "source": [
        "df['timestamp'] = pd.to_datetime(df['timestamp'], unit='ms')\n",
        "\n",
        "# Extract year and month from the timestamp\n",
        "df['year'] = df['timestamp'].dt.year\n",
        "df['month'] = df['timestamp'].dt.month\n",
        "\n",
        "# Plot the number of reviews over time\n",
        "plt.figure(figsize=(10, 6))\n",
        "df.groupby('year')['rating'].count().plot(kind='line', marker='o')\n",
        "plt.title('Number of Reviews Over Time')\n",
        "plt.xlabel('Year')\n",
        "plt.ylabel('Number of Reviews')\n",
        "plt.grid(True)\n",
        "plt.show()"
      ],
      "metadata": {
        "colab": {
          "base_uri": "https://localhost:8080/",
          "height": 564
        },
        "id": "AGiVNljbWzHB",
        "outputId": "a0bca395-633e-4eed-9931-57df920c9aa1"
      },
      "execution_count": 90,
      "outputs": [
        {
          "output_type": "display_data",
          "data": {
            "text/plain": [
              "<Figure size 1000x600 with 1 Axes>"
            ],
            "image/png": "[encoded data removed]"
          },
          "metadata": {}
        }
      ]
    },
    {
      "cell_type": "markdown",
      "source": [
        "Credibility assessment"
      ],
      "metadata": {
        "id": "Y3aBkVs0Z2AU"
      }
    },
    {
      "cell_type": "code",
      "source": [
        "#label encoding the categorical variables\n",
        "\n",
        "from sklearn.preprocessing import LabelEncoder\n",
        "label_encoder = LabelEncoder()\n",
        "df['rating_encoded'] = label_encoder.fit_transform(df['rating'])\n",
        "df['text_encoded'] = label_encoder.fit_transform(df['text'])\n",
        "df['verified_purchased_encoded'] = label_encoder.fit_transform(df['verified_purchase'])"
      ],
      "metadata": {
        "id": "9PStEKwFaA9y"
      },
      "execution_count": 99,
      "outputs": []
    },
    {
      "cell_type": "code",
      "source": [
        "#Assigning the independed variables and target variable\n",
        "\n",
        "X = df[['rating', 'text_encoded', 'sentiment']]\n",
        "y = df['verified_purchased_encoded']"
      ],
      "metadata": {
        "id": "07FmFDx3f_dL"
      },
      "execution_count": 107,
      "outputs": []
    },
    {
      "cell_type": "code",
      "source": [
        "from sklearn.model_selection import train_test_split\n",
        "from sklearn.linear_model import LogisticRegression\n",
        "from sklearn.ensemble import GradientBoostingClassifier\n",
        "from sklearn.metrics import confusion_matrix, precision_score, recall_score, f1_score,accuracy_score"
      ],
      "metadata": {
        "id": "AUhjLNEqgpi9"
      },
      "execution_count": 116,
      "outputs": []
    },
    {
      "cell_type": "code",
      "source": [
        "X_train, X_test, y_train, y_test = train_test_split(X, y, test_size = 0.2, random_state = 42)"
      ],
      "metadata": {
        "id": "nUqZDGLThSDT"
      },
      "execution_count": 108,
      "outputs": []
    },
    {
      "cell_type": "code",
      "source": [
        "logit_model = LogisticRegression()\n",
        "logit_model.fit(X_train, y_train)"
      ],
      "metadata": {
        "colab": {
          "base_uri": "https://localhost:8080/",
          "height": 75
        },
        "id": "rSrMY4Vmh4fD",
        "outputId": "865191db-5c69-49c6-a4e4-f4b2b086fb9a"
      },
      "execution_count": 109,
      "outputs": [
        {
          "output_type": "execute_result",
          "data": {
            "text/plain": [
              "LogisticRegression()"
            ],
            "text/html": [
              "<style>#sk-container-id-1 {color: black;background-color: white;}#sk-container-id-1 pre{padding: 0;}#sk-container-id-1 div.sk-toggleable {background-color: white;}#sk-container-id-1 label.sk-toggleable__label {cursor: pointer;display: block;width: 100%;margin-bottom: 0;padding: 0.3em;box-sizing: border-box;text-align: center;}#sk-container-id-1 label.sk-toggleable__label-arrow:before {content: \"▸\";float: left;margin-right: 0.25em;color: #696969;}#sk-container-id-1 label.sk-toggleable__label-arrow:hover:before {color: black;}#sk-container-id-1 div.sk-estimator:hover label.sk-toggleable__label-arrow:before {color: black;}#sk-container-id-1 div.sk-toggleable__content {max-height: 0;max-width: 0;overflow: hidden;text-align: left;background-color: #f0f8ff;}#sk-container-id-1 div.sk-toggleable__content pre {margin: 0.2em;color: black;border-radius: 0.25em;background-color: #f0f8ff;}#sk-container-id-1 input.sk-toggleable__control:checked~div.sk-toggleable__content {max-height: 200px;max-width: 100%;overflow: auto;}#sk-container-id-1 input.sk-toggleable__control:checked~label.sk-toggleable__label-arrow:before {content: \"▾\";}#sk-container-id-1 div.sk-estimator input.sk-toggleable__control:checked~label.sk-toggleable__label {background-color: #d4ebff;}#sk-container-id-1 div.sk-label input.sk-toggleable__control:checked~label.sk-toggleable__label {background-color: #d4ebff;}#sk-container-id-1 input.sk-hidden--visually {border: 0;clip: rect(1px 1px 1px 1px);clip: rect(1px, 1px, 1px, 1px);height: 1px;margin: -1px;overflow: hidden;padding: 0;position: absolute;width: 1px;}#sk-container-id-1 div.sk-estimator {font-family: monospace;background-color: #f0f8ff;border: 1px dotted black;border-radius: 0.25em;box-sizing: border-box;margin-bottom: 0.5em;}#sk-container-id-1 div.sk-estimator:hover {background-color: #d4ebff;}#sk-container-id-1 div.sk-parallel-item::after {content: \"\";width: 100%;border-bottom: 1px solid gray;flex-grow: 1;}#sk-container-id-1 div.sk-label:hover label.sk-toggleable__label {background-color: #d4ebff;}#sk-container-id-1 div.sk-serial::before {content: \"\";position: absolute;border-left: 1px solid gray;box-sizing: border-box;top: 0;bottom: 0;left: 50%;z-index: 0;}#sk-container-id-1 div.sk-serial {display: flex;flex-direction: column;align-items: center;background-color: white;padding-right: 0.2em;padding-left: 0.2em;position: relative;}#sk-container-id-1 div.sk-item {position: relative;z-index: 1;}#sk-container-id-1 div.sk-parallel {display: flex;align-items: stretch;justify-content: center;background-color: white;position: relative;}#sk-container-id-1 div.sk-item::before, #sk-container-id-1 div.sk-parallel-item::before {content: \"\";position: absolute;border-left: 1px solid gray;box-sizing: border-box;top: 0;bottom: 0;left: 50%;z-index: -1;}#sk-container-id-1 div.sk-parallel-item {display: flex;flex-direction: column;z-index: 1;position: relative;background-color: white;}#sk-container-id-1 div.sk-parallel-item:first-child::after {align-self: flex-end;width: 50%;}#sk-container-id-1 div.sk-parallel-item:last-child::after {align-self: flex-start;width: 50%;}#sk-container-id-1 div.sk-parallel-item:only-child::after {width: 0;}#sk-container-id-1 div.sk-dashed-wrapped {border: 1px dashed gray;margin: 0 0.4em 0.5em 0.4em;box-sizing: border-box;padding-bottom: 0.4em;background-color: white;}#sk-container-id-1 div.sk-label label {font-family: monospace;font-weight: bold;display: inline-block;line-height: 1.2em;}#sk-container-id-1 div.sk-label-container {text-align: center;}#sk-container-id-1 div.sk-container {/* jupyter's `normalize.less` sets `[hidden] { display: none; }` but bootstrap.min.css set `[hidden] { display: none !important; }` so we also need the `!important` here to be able to override the default hidden behavior on the sphinx rendered scikit-learn.org. See: https://github.com/scikit-learn/scikit-learn/issues/21755 */display: inline-block !important;position: relative;}#sk-container-id-1 div.sk-text-repr-fallback {display: none;}</style><div id=\"sk-container-id-1\" class=\"sk-top-container\"><div class=\"sk-text-repr-fallback\"><pre>LogisticRegression()</pre><b>In a Jupyter environment, please rerun this cell to show the HTML representation or trust the notebook. <br />On GitHub, the HTML representation is unable to render, please try loading this page with nbviewer.org.</b></div><div class=\"sk-container\" hidden><div class=\"sk-item\"><div class=\"sk-estimator sk-toggleable\"><input class=\"sk-toggleable__control sk-hidden--visually\" id=\"sk-estimator-id-1\" type=\"checkbox\" checked><label for=\"sk-estimator-id-1\" class=\"sk-toggleable__label sk-toggleable__label-arrow\">LogisticRegression</label><div class=\"sk-toggleable__content\"><pre>LogisticRegression()</pre></div></div></div></div></div>"
            ]
          },
          "metadata": {},
          "execution_count": 109
        }
      ]
    },
    {
      "cell_type": "code",
      "source": [
        "y_pred = logit_model.predict(X_test)"
      ],
      "metadata": {
        "id": "OK_jkttkicR6"
      },
      "execution_count": 110,
      "outputs": []
    },
    {
      "cell_type": "code",
      "source": [
        "print(\"The confusion matrix is \\n\", confusion_matrix(y_test, y_pred))\n",
        "\n",
        "print(\"\\nThe precision is \", precision_score(y_test, y_pred))\n",
        "\n",
        "print(\"\\nThe recall score is \", recall_score(y_test, y_pred))\n",
        "\n",
        "print(\"\\nThe F-1 score is \", f1_score(y_test, y_pred))\n",
        "\n",
        "print(\"\\nThe accuracy is \", accuracy_score(y_test, y_pred))\n"
      ],
      "metadata": {
        "colab": {
          "base_uri": "https://localhost:8080/"
        },
        "id": "bBxAEf9ei8ZB",
        "outputId": "026e50d2-2ecf-4ede-f153-25da891fc616"
      },
      "execution_count": 126,
      "outputs": [
        {
          "output_type": "stream",
          "name": "stdout",
          "text": [
            "The confusion matrix is \n",
            " [[ 0  3]\n",
            " [ 0 47]]\n",
            "\n",
            "The precision is  0.94\n",
            "\n",
            "The recall score is  1.0\n",
            "\n",
            "The F-1 score is  0.9690721649484536\n",
            "\n",
            "The accuracy is  0.94\n"
          ]
        }
      ]
    }
  ]
}